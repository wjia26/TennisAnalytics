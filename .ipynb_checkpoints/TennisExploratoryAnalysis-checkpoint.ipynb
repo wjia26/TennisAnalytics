{
 "cells": [
  {
   "cell_type": "markdown",
   "metadata": {},
   "source": [
    "## Exploring the Match Charting Project\n",
    "Some awesome data crowdsourced by many people charting different tennis matches. This dataset provides point by point data of most major ATP matches to date. Big ups to [Jeff Sackmann](http://www.tennisabstract.com/blog/2013/11/26/the-match-charting-project/) for co-ordinating this incredible effort to get this data out in the public. There are so many insights to be gotten from this dataset. I encourage any avid tennis fan or even sports statistics fan to look into answering some interesting questions using this data.\n",
    "\n",
    "I might start charting up some matches when Wimbledon comes round!"
   ]
  },
  {
   "cell_type": "markdown",
   "metadata": {},
   "source": [
    "### Finding the most clutch Player\n",
    "One of the most perennnial question is: Who is the most clutch player on the tour? Many say it's Djokovic/Nadal, but I'd like to get some statistical proof that it actually is.\n",
    "\n",
    "First, we need to define what clutch means. According to google clutch means: \"denoting or occurring at a critical situation in which the outcome of a game or competition is at stake.\"\n",
    "\n",
    "A critical situation in tennis would occur when:\n",
    "- The player is playing to save a game point/break point/set point/match point\n",
    "- The player is playing to win a game point/break point/set point/match point\n",
    "\n",
    "Obviously saving break point vs. saving match point are different levels of clutchness. On top of that, not all matches carry the same amount of pressure. e.g. A Challenger 1st round event vs. Wimbledon Final. This however may skew the stats to those who are higher ranked, so we might do a version with and without event-scaling.\n",
    "\n",
    "Perhaps there should also be multipliers for players who survive critical situations consecutive times in a row. For example: If you're 0-40 down and you bomb down 5 aces. Each ace will give the player a clutch score along with the multiplier for having done it 4 times in a row.\n",
    "\n",
    "Likewise, if you were 40-0 up and you lose 5 consecutive points - that should decrease your clutch score. \n",
    "\n",
    "Furthermore, we should distinquish how the point was won. Winning long rallies in critical situations are probably more clutch than an ace. Also, ending the rally in a winner as opposed to an opponents unforced error is more clutch.\n",
    "\n",
    "All these factors should come into play when determining the clutch score for each point."
   ]
  },
  {
   "cell_type": "code",
   "execution_count": 2,
   "metadata": {},
   "outputs": [
    {
     "data": {
      "text/html": [
       "<style>\n",
       "  table {margin-left: 0 !important;}\n",
       "</style>\n"
      ],
      "text/plain": [
       "<IPython.core.display.HTML object>"
      ]
     },
     "metadata": {},
     "output_type": "display_data"
    }
   ],
   "source": [
    "%%html\n",
    "<style>\n",
    "  table {margin-left: 0 !important;}\n",
    "</style>"
   ]
  },
  {
   "cell_type": "markdown",
   "metadata": {},
   "source": [
    "### Assumptions\n",
    "With the factors above in mind, we'll need to start off with assumptions which we will use as weights for determining the clutch-points (cp for short). \n",
    "\n",
    "1. Let's use a concept in [behavioural theory](https://www.behavioraleconomics.com/resources/mini-encyclopedia-of-be/loss-aversion/) that we feel losses twice as much as gains. \n",
    "2. Let's also assume there's twice as much pressure on a break point than on serve.\n",
    "\n",
    "I've given saving gaming/set/match points: 1/2/3 respectively. Then halved it for winning as per (1.)\n",
    "I did the same for saving on-serve as per (2.). \n",
    "Then I halved that to get Winning On-serve as (1.)\n",
    "\n",
    "| Winning-Point   Type | Serve/Break | Game Point | Set Point | Match Point |\n",
    "|--------------|-------------|------------|-----------|-------------|\n",
    "| Win          | On Serve    | 0.25       | 0.5       | 0.75        |\n",
    "| Win          | Break       | 0.5        | 1         | 1.5         |\n",
    "| Save         | On Serve    | 0.5        | 1         | 1.5         |\n",
    "| Save         | Break       | 1          | 2         | 3           |\n",
    "\n",
    "I also assigned factors to how the point was won.\n",
    "\n",
    "| Rally   Length | Factor |\n",
    "|----------------|--------|\n",
    "| 0 to 3         | 1      |\n",
    "| 4 to 7         | 1.1    |\n",
    "| 8+             | 1.2    |\n",
    "\n",
    "| Type of Win      | Factor |\n",
    "|--------------------|--------|\n",
    "| Unreturnable Serve | 1      |\n",
    "| Rally Winner       | 1.1    |\n",
    "| Swinging Volley    | 1.1    |\n",
    "| Dropshot           | 1.2    |\n",
    "| Half-Volley        | 1.2    |\n",
    "| Trick shot         | 1.3    |\n",
    "\n",
    "**For Example**: If a player happened to save a matchpoint with a half volley dropshot after a 10 shot rally, they would get a clutch-point of 3*1.2*1.2*1.2=5.184\n",
    "\n",
    "A somewhat crude calculation - but it'll have to do because being clutch is sort of subjective.\n",
    "I've chosen to not include factors like the significance of the event, amongst many other things - but I think this list of factors will cover enough.\n",
    "\n",
    "Anyways let's move on with the data shall we."
   ]
  },
  {
   "cell_type": "markdown",
   "metadata": {},
   "source": [
    "### Normalizing for how good a player is\n",
    "I realized the data we're about to crunch will favour those who are inherantly just good at the game and that we'll just see the Top players at the top of the rankings. \n",
    "\n",
    "To normalize for this, I think we ought to calculate the point win-rate for each player, as well as their win-rate on pressure points. Then subtract the two to give a normalized score.\n",
    "\n"
   ]
  },
  {
   "cell_type": "code",
   "execution_count": 3,
   "metadata": {},
   "outputs": [],
   "source": [
    "import pandas as pd"
   ]
  },
  {
   "cell_type": "code",
   "execution_count": 4,
   "metadata": {},
   "outputs": [],
   "source": [
    "# df=pd.read_csv('samplepoints.csv', engine='python')\n",
    "df=pd.read_csv('C:/Users/William Jiang/Documents/tennis_MatchChartingProject/charting-m-points.csv', engine='python')\n",
    "# df=df.head(1000)"
   ]
  },
  {
   "cell_type": "code",
   "execution_count": 5,
   "metadata": {},
   "outputs": [],
   "source": [
    "# df=df.head(1000)"
   ]
  },
  {
   "cell_type": "code",
   "execution_count": 6,
   "metadata": {},
   "outputs": [],
   "source": [
    "# df=pd.read_csv('poo.csv', engine='python')"
   ]
  },
  {
   "cell_type": "markdown",
   "metadata": {},
   "source": [
    "## Data Cleansing\n",
    "Let's isolate the components we are concerned with.\n",
    "We are only concerned with the following information:\n",
    "1. Names\n",
    "2. Points that are one point away from having a game lost/won.\n",
    "3. Rally Length\n",
    "4. How the point ended.\n",
    "\n",
    "Else we will strip away all the other data."
   ]
  },
  {
   "cell_type": "code",
   "execution_count": 7,
   "metadata": {},
   "outputs": [],
   "source": [
    "#Lets Split the points up \n",
    "df[['PtsServer','PtsRet']] = df['Pts'].str.split(expand=True,pat = \"-\")\n",
    "#And the Player names\n",
    "df[['Date','Gender','City','Round','P1Name','P2Name']] = df['match_id'].str.split(expand=True,pat = \"-\")\n",
    "df=df[df['City']!='NextGen_Finals']"
   ]
  },
  {
   "cell_type": "code",
   "execution_count": 8,
   "metadata": {},
   "outputs": [],
   "source": [
    "#Find all match_ids that last five sets\n",
    "filter1 = df['Set1.1']==3\n",
    "filter2 = df['Set2.1']==3\n",
    "big_match_array=df[filter1|filter2]['match_id'].unique()"
   ]
  },
  {
   "cell_type": "code",
   "execution_count": 9,
   "metadata": {},
   "outputs": [],
   "source": [
    "df_big_match = pd.DataFrame()\n",
    "df_big_match['match_id']=big_match_array\n",
    "df_big_match['bigmatchflag']=True"
   ]
  },
  {
   "cell_type": "code",
   "execution_count": 10,
   "metadata": {},
   "outputs": [],
   "source": [
    "df=pd.merge(df,df_big_match,on='match_id',how='left')\n",
    "df['bigmatchflag'] = df['bigmatchflag'].fillna(value=False)"
   ]
  },
  {
   "cell_type": "code",
   "execution_count": 11,
   "metadata": {},
   "outputs": [],
   "source": [
    "#Replace AD with 50 because easier to write logic with integer values.\n",
    "df.loc[df['PtsServer'] == 'AD', 'PtsServer'] = '50' \n",
    "df.loc[df['PtsRet'] == 'AD', 'PtsRet'] = '50' "
   ]
  },
  {
   "cell_type": "code",
   "execution_count": 12,
   "metadata": {},
   "outputs": [],
   "source": [
    "def dateToInt(x):\n",
    "    switcher = {\n",
    "        'Jan': 1,\n",
    "        'Feb': 2,\n",
    "        'Mar': 3,\n",
    "        'Apr': 4,\n",
    "        'May': 5,\n",
    "        'Jun': 6,\n",
    "        'Jul': 7,\n",
    "        'Aug': 8,\n",
    "        'Sep': 9,\n",
    "        'Oct': 10,\n",
    "        'Nov': 11,\n",
    "        'Dec': 12, \n",
    "    }\n",
    "    if x in switcher.keys():\n",
    "        return_value=switcher[x]\n",
    "    else:\n",
    "        return_value=x\n",
    "    return return_value\n"
   ]
  },
  {
   "cell_type": "code",
   "execution_count": 13,
   "metadata": {},
   "outputs": [],
   "source": [
    "df['PtsServer']=df['PtsServer'].apply(dateToInt)\n",
    "df['PtsServer']=df['PtsServer'].astype('int32')\n",
    "df['PtsRet']=df['PtsRet'].apply(dateToInt)\n",
    "df['PtsRet']=df['PtsRet'].astype('int32')"
   ]
  },
  {
   "cell_type": "code",
   "execution_count": 14,
   "metadata": {},
   "outputs": [],
   "source": [
    "\n",
    "#Define whether a point is crucial or not\n",
    "def isCrucialPoint(row):\n",
    "    return_value=False\n",
    "    if row['TB?'] in ('0','V'):\n",
    "        if (row['PtsServer']==40) ^ (row['PtsRet']==40):\n",
    "            return_value=True    \n",
    "        if (row['PtsServer']==50) ^ (row['PtsRet']==50):\n",
    "            return_value=True   \n",
    "    elif row['TB?']=='1':\n",
    "        if row['PtsServer']>=6 and row['PtsRet']>=6:\n",
    "            if row['PtsServer']!=row['PtsRet']:\n",
    "                return_value=True\n",
    "        if (row['PtsServer']>=6) ^ (row['PtsRet']>=6):\n",
    "            return_value=True\n",
    "    #Super Tie-Break\n",
    "    elif row['TB?']=='S':\n",
    "        if row['PtsServer']>=6 and row['PtsRet']>=6:\n",
    "            if row['PtsServer']!=row['PtsRet']:\n",
    "                return_value=True\n",
    "        if (row['PtsServer']>=6) ^ (row['PtsRet']>=6):\n",
    "            return_value=True       \n",
    "    #8-all\n",
    "    elif row['TB?']=='W':\n",
    "        if row['PtsServer']>=8 and row['PtsRet']>=8:\n",
    "            if row['PtsServer']!=row['PtsRet']:\n",
    "                return_value=True\n",
    "        if (row['PtsServer']>=8) ^ (row['PtsRet']>=8):\n",
    "            return_value=True         \n",
    "    elif row['TB?']=='A':\n",
    "        if row['PtsServer']>=10 and row['PtsRet']>=10:\n",
    "            if row['PtsServer']!=row['PtsRet']:\n",
    "                return_value=True\n",
    "        if (row['PtsServer']>=10) ^ (row['PtsRet']>=10):\n",
    "            return_value=True     \n",
    "    elif row['TB?']=='T':\n",
    "        if row['PtsServer']>=12 and row['PtsRet']>=12:\n",
    "            if row['PtsServer']!=row['PtsRet']:\n",
    "                return_value=True\n",
    "        if (row['PtsServer']>=12) ^ (row['PtsRet']>=12):\n",
    "            return_value=True     \n",
    "                \n",
    "    return return_value"
   ]
  },
  {
   "cell_type": "code",
   "execution_count": 15,
   "metadata": {},
   "outputs": [],
   "source": [
    "#Return Player who won the point in the clutch moment.\n",
    "def ClutchPlayerWon(row):\n",
    "    ptWinner=row['PtWinner']\n",
    "    if ptWinner==1:\n",
    "        return_val=row['P1Name']\n",
    "    else:\n",
    "        return_val=row['P2Name']        \n",
    "    \n",
    " \n",
    "    return return_val\n",
    "        "
   ]
  },
  {
   "cell_type": "code",
   "execution_count": 16,
   "metadata": {},
   "outputs": [],
   "source": [
    "#Return Player who won the point in the clutch moment.\n",
    "def ClutchPlayerLost(row):\n",
    "    ptWinner=row['PtWinner']\n",
    "    if ptWinner==1:\n",
    "        return_val=row['P2Name']\n",
    "    else:\n",
    "        return_val=row['P1Name']        \n",
    "    \n",
    " \n",
    "    return return_val\n",
    "        "
   ]
  },
  {
   "cell_type": "code",
   "execution_count": 17,
   "metadata": {},
   "outputs": [],
   "source": [
    "def HowPoint(row):\n",
    "    if row['isAce']==True:\n",
    "        return_val='Ace'\n",
    "    elif row['isUnret']==True:\n",
    "        return_val='Unret'\n",
    "    elif row['isRallyWinner']==True:\n",
    "        return_val='RallyWinner'\n",
    "    elif row['isForced']==True:\n",
    "        return_val='Forced'\n",
    "    elif row['isUnforced']==True:\n",
    "        return_val='Unforced'\n",
    "    elif row['isDouble']==True:\n",
    "        return_val='Double'  \n",
    "    else:\n",
    "        return_val='Other'\n",
    " \n",
    "    return return_val"
   ]
  },
  {
   "cell_type": "code",
   "execution_count": 18,
   "metadata": {},
   "outputs": [],
   "source": [
    "#Have to handle some cases where the data isn't an integer.\n",
    "def rallyCounttoint(row):\n",
    "    if str(row['rallyCount']).isdecimal():\n",
    "        return_val=int(row['rallyCount'])\n",
    "    else:\n",
    "        return_val=None\n",
    "    \n",
    "    return return_val"
   ]
  },
  {
   "cell_type": "code",
   "execution_count": 19,
   "metadata": {},
   "outputs": [],
   "source": [
    "#Can't rely on the points to determine this.\n",
    "def abouttowin(row):\n",
    "    if row['IsCrucialPoint']:       \n",
    "        if row['PtsAfter']=='GM':\n",
    "            if row['PtWinner']==1:\n",
    "                return_val=1\n",
    "            else:\n",
    "                return_val=2\n",
    "        else:\n",
    "            if row['PtWinner']==1:\n",
    "                return_val=2\n",
    "            else:\n",
    "                return_val=1     \n",
    "    else:\n",
    "        return_val=None\n",
    "            \n",
    "    return return_val\n",
    "        \n"
   ]
  },
  {
   "cell_type": "code",
   "execution_count": 20,
   "metadata": {},
   "outputs": [],
   "source": [
    "#winsave\n",
    "def PWinnerwinorsave(row):\n",
    "    if row['IsCrucialPoint']:    \n",
    "        abouttowin=row['abouttowin']\n",
    "        ptWinner=row['PtWinner']\n",
    "        if ptWinner==1:\n",
    "            if abouttowin==1:\n",
    "                return_val='Win'\n",
    "            else:\n",
    "                return_val='Save'\n",
    "        else: \n",
    "            if abouttowin==2:\n",
    "                return_val='Win'\n",
    "            else:\n",
    "                return_val='Save'\n",
    "    else:\n",
    "        return_val='N/A'\n",
    "\n",
    "    \n",
    "    return return_val\n",
    "        "
   ]
  },
  {
   "cell_type": "code",
   "execution_count": 21,
   "metadata": {},
   "outputs": [],
   "source": [
    "#winsave\n",
    "def PLoserwinorsave(row):\n",
    "    if row['IsCrucialPoint']:    \n",
    "        abouttowin=row['abouttowin']\n",
    "        ptWinner=row['PtWinner']\n",
    "        if ptWinner==1:\n",
    "            if abouttowin==2:\n",
    "                return_val='Win'\n",
    "            else:\n",
    "                return_val='Save'\n",
    "        else: \n",
    "            if abouttowin==1:\n",
    "                return_val='Win'\n",
    "            else:\n",
    "                return_val='Save'\n",
    "    else:\n",
    "        return_val='N/A'\n",
    "\n",
    "    \n",
    "    return return_val\n",
    "        "
   ]
  },
  {
   "cell_type": "code",
   "execution_count": 22,
   "metadata": {},
   "outputs": [],
   "source": [
    "def BreakPoint(row):\n",
    "    if row['IsCrucialPoint']:    \n",
    "        if (row['abouttowin']==1 and row['Svr']==2) or (row['abouttowin']==2 and row['Svr']==1):\n",
    "            return_val='Break'\n",
    "        else:\n",
    "            return_val='OnServe'\n",
    "    else:\n",
    "        return_val='N/A'\n",
    "    \n",
    "    return return_val"
   ]
  },
  {
   "cell_type": "code",
   "execution_count": 23,
   "metadata": {},
   "outputs": [],
   "source": [
    "#Point Type\n",
    "def PointType(row):\n",
    "    #when p1 about to win set\n",
    "    logicforset1=row['abouttowin']==1 and  (row['Gm1']>=5  and row['Gm1']>row['Gm2'] or row['Gm1']==6 and row['Gm2']==6)\n",
    "    #when p2 about to win set\n",
    "    logicforset2=row['abouttowin']==2 and  (row['Gm2']>=5  and row['Gm2']>row['Gm1'] or row['Gm1']==6 and row['Gm2']==6)\n",
    "    if row['IsCrucialPoint']:    \n",
    "        if logicforset1:\n",
    "            if row['bigmatchflag']==True and row['Set1']==2:\n",
    "                return_val='MatchPoint'\n",
    "            elif row['bigmatchflag']==False and row['Set1']==1 :\n",
    "                return_val='MatchPoint'\n",
    "            else:\n",
    "                return_val='SetPoint'\n",
    "        elif logicforset2:\n",
    "            if row['bigmatchflag']==True and row['Set2']==2:\n",
    "                return_val='MatchPoint'\n",
    "            elif row['bigmatchflag']==False and row['Set2']==1 :\n",
    "                return_val='MatchPoint'\n",
    "            else:\n",
    "                return_val='SetPoint'    \n",
    "        else:\n",
    "            return_val='GamePoint'      \n",
    "    else:\n",
    "        return_val='N/A'\n",
    "    \n",
    "\n",
    "    \n",
    "    return return_val\n",
    "        "
   ]
  },
  {
   "cell_type": "code",
   "execution_count": 24,
   "metadata": {},
   "outputs": [],
   "source": [
    "df['IsCrucialPoint']=df.apply(isCrucialPoint,axis=1)\n",
    "df['PlayerWon']=df.apply(ClutchPlayerWon,axis=1)\n",
    "df['PlayerLost']=df.apply(ClutchPlayerLost,axis=1)\n",
    "df['HowPoint']=df.apply(HowPoint,axis=1)\n",
    "df['rallyCount']=df.apply(rallyCounttoint,axis=1)"
   ]
  },
  {
   "cell_type": "code",
   "execution_count": 25,
   "metadata": {},
   "outputs": [],
   "source": [
    "df['abouttowin']=df.apply(abouttowin,axis=1)\n",
    "df['BreakPoint']=df.apply(BreakPoint,axis=1)\n",
    "df['PointType']=df.apply(PointType,axis=1)\n",
    "df['PWinnerwinorsave']=df.apply(PWinnerwinorsave,axis=1)\n",
    "df['PLoserwinorsave']=df.apply(PLoserwinorsave,axis=1)"
   ]
  },
  {
   "cell_type": "code",
   "execution_count": 26,
   "metadata": {},
   "outputs": [],
   "source": [
    "df['Year']=df['Date'].str.slice(stop=4)"
   ]
  },
  {
   "cell_type": "code",
   "execution_count": 27,
   "metadata": {},
   "outputs": [],
   "source": [
    "df[df['PointType']=='SetPoint'].to_csv('test.csv')"
   ]
  },
  {
   "cell_type": "code",
   "execution_count": 28,
   "metadata": {},
   "outputs": [],
   "source": [
    "#Clutch Points Won\n",
    "dfallWon = pd.DataFrame()\n",
    "dfallWon['count']=df.groupby(['BreakPoint','Year','PlayerWon','HowPoint','IsCrucialPoint','PWinnerwinorsave','PointType'])['PlayerWon'].count().sort_values(ascending=False)\n",
    "dfallWon['avg_rally_count']=df.groupby(['BreakPoint','Year','PlayerWon','HowPoint','IsCrucialPoint','PWinnerwinorsave','PointType'])['rallyCount'].mean().sort_values(ascending=False)\n",
    "dfallWon['WonLost']='Won'\n",
    "dfallWon=dfallWon.reset_index()\n",
    "dfallWon=dfallWon.rename(columns={\"PlayerWon\": \"Player\",\"PWinnerwinorsave\": \"winorsave\"})\n",
    "\n",
    "#Clutch Points Lost\n",
    "dfallLost = pd.DataFrame()\n",
    "dfallLost['count']=df.groupby(['BreakPoint','Year','PlayerLost','HowPoint','IsCrucialPoint','PLoserwinorsave','PointType'])['PlayerLost'].count().sort_values(ascending=False)\n",
    "dfallLost['avg_rally_count']=df.groupby(['BreakPoint','Year','PlayerLost','HowPoint','IsCrucialPoint','PLoserwinorsave','PointType'])['rallyCount'].mean().sort_values(ascending=False)\n",
    "dfallLost['WonLost']='Lost'\n",
    "dfallLost=dfallLost.reset_index()\n",
    "dfallLost=dfallLost.rename(columns={\"PlayerLost\": \"Player\",\"PLoserwinorsave\": \"winorsave\"})\n",
    "\n",
    "dfallagg=pd.concat([dfallWon,dfallLost])\n",
    "\n",
    "\n",
    "# df_total=pd.merge(dfClutchWon,dfallLost,left_on='PlayerWon', right_on='PlayerLost',how='inner')\n",
    "\n",
    "# df_total['ratio']=df_total['count_x']/(df_total['count_x']+df_total['count_y'])\n",
    "\n",
    "#Sorted List of most clutch Players\n",
    "# df_winratio=df_total.sort_values('ratio',ascending=False)"
   ]
  },
  {
   "cell_type": "code",
   "execution_count": 29,
   "metadata": {},
   "outputs": [],
   "source": [
    "dfallagg.to_csv('final_dataset_agg.csv')"
   ]
  },
  {
   "cell_type": "markdown",
   "metadata": {},
   "source": [
    "# Done!"
   ]
  }
 ],
 "metadata": {
  "kernelspec": {
   "display_name": "Python 3",
   "language": "python",
   "name": "python3"
  },
  "language_info": {
   "codemirror_mode": {
    "name": "ipython",
    "version": 3
   },
   "file_extension": ".py",
   "mimetype": "text/x-python",
   "name": "python",
   "nbconvert_exporter": "python",
   "pygments_lexer": "ipython3",
   "version": "3.6.3"
  }
 },
 "nbformat": 4,
 "nbformat_minor": 4
}
