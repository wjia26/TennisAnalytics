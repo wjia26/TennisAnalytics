{
 "cells": [
  {
   "cell_type": "markdown",
   "metadata": {},
   "source": [
    "## Exploring the Match Charting Project\n",
    "Some awesome data crowdsourced by many people charting different tennis matches. This dataset provides point by point data of most major ATP matches to date. Big ups to [Jeff Sackmann](http://www.tennisabstract.com/blog/2013/11/26/the-match-charting-project/) for co-ordinating this incredible effort to get this data out in the public. There are so many insights to be gotten from this dataset. I encourage any avid tennis fan or even sports statistics fan to look into answering some interesting questions using this data.\n",
    "\n",
    "I might start charting up some matches when Wimbledon comes round!"
   ]
  },
  {
   "cell_type": "markdown",
   "metadata": {},
   "source": [
    "### Normalizing for how good a player is\n",
    "I realized the data we're about to crunch will favour those who are inherantly just good at the game and that we'll just see the Top players at the top of the rankings. \n",
    "\n",
    "To normalize for this, I think we ought to calculate the point win-rate for each player, as well as their win-rate on pressure points. Then subtract the two to give a normalized score.\n"
   ]
  },
  {
   "cell_type": "code",
   "execution_count": 1,
   "metadata": {},
   "outputs": [],
   "source": [
    "import pandas as pd"
   ]
  },
  {
   "cell_type": "code",
   "execution_count": 2,
   "metadata": {},
   "outputs": [],
   "source": [
    "df=pd.read_csv('C:/Users/William Jiang/Documents/tennis_MatchChartingProject/charting-m-points.csv', engine='python')"
   ]
  },
  {
   "cell_type": "code",
   "execution_count": 3,
   "metadata": {},
   "outputs": [],
   "source": [
    "# df=df.head(1000)"
   ]
  },
  {
   "cell_type": "code",
   "execution_count": 4,
   "metadata": {},
   "outputs": [],
   "source": [
    "# df=pd.read_csv('poo.csv', engine='python')"
   ]
  },
  {
   "cell_type": "markdown",
   "metadata": {},
   "source": [
    "## Data Cleansing\n",
    "Let's isolate the components we are concerned with.\n",
    "We are only concerned with the following information:\n",
    "1. Names\n",
    "2. Points that are one point away from having a game lost/won.\n",
    "3. Rally Length\n",
    "4. How the point ended.\n",
    "\n",
    "Else we will strip away all the other data."
   ]
  },
  {
   "cell_type": "code",
   "execution_count": 5,
   "metadata": {},
   "outputs": [],
   "source": [
    "#Lets Split the points up \n",
    "df[['PtsServer','PtsRet']] = df['Pts'].str.split(expand=True,pat = \"-\")\n",
    "#And the Player names\n",
    "df[['Date','Gender','City','Round','P1Name','P2Name']] = df['match_id'].str.split(expand=True,pat = \"-\")\n",
    "df=df[df['City']!='NextGen_Finals']"
   ]
  },
  {
   "cell_type": "code",
   "execution_count": 6,
   "metadata": {},
   "outputs": [],
   "source": [
    "#Find all match_ids that last five sets\n",
    "filter1 = df['Set1.1']==3\n",
    "filter2 = df['Set2.1']==3\n",
    "big_match_array=df[filter1|filter2]['match_id'].unique()"
   ]
  },
  {
   "cell_type": "code",
   "execution_count": 7,
   "metadata": {},
   "outputs": [],
   "source": [
    "df_big_match = pd.DataFrame()\n",
    "df_big_match['match_id']=big_match_array\n",
    "df_big_match['bigmatchflag']=True"
   ]
  },
  {
   "cell_type": "code",
   "execution_count": 8,
   "metadata": {},
   "outputs": [],
   "source": [
    "df=pd.merge(df,df_big_match,on='match_id',how='left')\n",
    "df['bigmatchflag'] = df['bigmatchflag'].fillna(value=False)"
   ]
  },
  {
   "cell_type": "code",
   "execution_count": 9,
   "metadata": {},
   "outputs": [],
   "source": [
    "#Replace AD with 50 because easier to write logic with integer values.\n",
    "df.loc[df['PtsServer'] == 'AD', 'PtsServer'] = '50' \n",
    "df.loc[df['PtsRet'] == 'AD', 'PtsRet'] = '50' "
   ]
  },
  {
   "cell_type": "code",
   "execution_count": 10,
   "metadata": {},
   "outputs": [],
   "source": [
    "def dateToInt(x):\n",
    "    switcher = {\n",
    "        'Jan': 1,\n",
    "        'Feb': 2,\n",
    "        'Mar': 3,\n",
    "        'Apr': 4,\n",
    "        'May': 5,\n",
    "        'Jun': 6,\n",
    "        'Jul': 7,\n",
    "        'Aug': 8,\n",
    "        'Sep': 9,\n",
    "        'Oct': 10,\n",
    "        'Nov': 11,\n",
    "        'Dec': 12, \n",
    "    }\n",
    "    if x in switcher.keys():\n",
    "        return_value=switcher[x]\n",
    "    else:\n",
    "        return_value=x\n",
    "    return return_value\n"
   ]
  },
  {
   "cell_type": "code",
   "execution_count": 11,
   "metadata": {},
   "outputs": [],
   "source": [
    "df['PtsServer']=df['PtsServer'].apply(dateToInt)\n",
    "df['PtsServer']=df['PtsServer'].astype('int32')\n",
    "df['PtsRet']=df['PtsRet'].apply(dateToInt)\n",
    "df['PtsRet']=df['PtsRet'].astype('int32')"
   ]
  },
  {
   "cell_type": "code",
   "execution_count": 12,
   "metadata": {},
   "outputs": [],
   "source": [
    "\n",
    "#Define whether a point is crucial or not\n",
    "def isCrucialPoint(row):\n",
    "    return_value=False\n",
    "    if row['TB?'] in ('0','V'):\n",
    "        if (row['PtsServer']==40) ^ (row['PtsRet']==40):\n",
    "            return_value=True    \n",
    "        if (row['PtsServer']==50) ^ (row['PtsRet']==50):\n",
    "            return_value=True   \n",
    "    elif row['TB?']=='1':\n",
    "        if row['PtsServer']>=6 and row['PtsRet']>=6:\n",
    "            if row['PtsServer']!=row['PtsRet']:\n",
    "                return_value=True\n",
    "        if (row['PtsServer']>=6) ^ (row['PtsRet']>=6):\n",
    "            return_value=True\n",
    "    #Super Tie-Break\n",
    "    elif row['TB?']=='S':\n",
    "        if row['PtsServer']>=6 and row['PtsRet']>=6:\n",
    "            if row['PtsServer']!=row['PtsRet']:\n",
    "                return_value=True\n",
    "        if (row['PtsServer']>=6) ^ (row['PtsRet']>=6):\n",
    "            return_value=True       \n",
    "    #8-all\n",
    "    elif row['TB?']=='W':\n",
    "        if row['PtsServer']>=8 and row['PtsRet']>=8:\n",
    "            if row['PtsServer']!=row['PtsRet']:\n",
    "                return_value=True\n",
    "        if (row['PtsServer']>=8) ^ (row['PtsRet']>=8):\n",
    "            return_value=True         \n",
    "    elif row['TB?']=='A':\n",
    "        if row['PtsServer']>=10 and row['PtsRet']>=10:\n",
    "            if row['PtsServer']!=row['PtsRet']:\n",
    "                return_value=True\n",
    "        if (row['PtsServer']>=10) ^ (row['PtsRet']>=10):\n",
    "            return_value=True     \n",
    "    elif row['TB?']=='T':\n",
    "        if row['PtsServer']>=12 and row['PtsRet']>=12:\n",
    "            if row['PtsServer']!=row['PtsRet']:\n",
    "                return_value=True\n",
    "        if (row['PtsServer']>=12) ^ (row['PtsRet']>=12):\n",
    "            return_value=True     \n",
    "                \n",
    "    return return_value"
   ]
  },
  {
   "cell_type": "code",
   "execution_count": 13,
   "metadata": {},
   "outputs": [],
   "source": [
    "#Return Player who won the point in the clutch moment.\n",
    "def ClutchPlayerWon(row):\n",
    "    ptWinner=row['PtWinner']\n",
    "    if ptWinner==1:\n",
    "        return_val=row['P1Name']\n",
    "    else:\n",
    "        return_val=row['P2Name']        \n",
    "    \n",
    " \n",
    "    return return_val\n",
    "        "
   ]
  },
  {
   "cell_type": "code",
   "execution_count": 14,
   "metadata": {},
   "outputs": [],
   "source": [
    "#Return Player who won the point in the clutch moment.\n",
    "def ClutchPlayerLost(row):\n",
    "    ptWinner=row['PtWinner']\n",
    "    if ptWinner==1:\n",
    "        return_val=row['P2Name']\n",
    "    else:\n",
    "        return_val=row['P1Name']        \n",
    "    \n",
    " \n",
    "    return return_val\n",
    "        "
   ]
  },
  {
   "cell_type": "code",
   "execution_count": 15,
   "metadata": {},
   "outputs": [],
   "source": [
    "def WinnerIsServerOrReturner(row):\n",
    "    if int(row['isSvrWinner'])==1:\n",
    "        return_val= 'Server'\n",
    "    else:\n",
    "        return_val= 'Returner'\n",
    "    return return_val"
   ]
  },
  {
   "cell_type": "code",
   "execution_count": 16,
   "metadata": {},
   "outputs": [],
   "source": [
    "def LoserIsServerOrReturner(row):\n",
    "    if int(row['isSvrWinner'])==0:\n",
    "        return_val= 'Server'\n",
    "    else:\n",
    "        return_val= 'Returner'\n",
    "    return return_val"
   ]
  },
  {
   "cell_type": "code",
   "execution_count": 17,
   "metadata": {},
   "outputs": [],
   "source": [
    "def HowPoint(row):\n",
    "    if row['isAce']==True:\n",
    "        return_val='Ace'\n",
    "    elif row['isUnret']==True:\n",
    "        return_val='Unret'\n",
    "    elif row['isRallyWinner']==True:\n",
    "        return_val='RallyWinner'\n",
    "    elif row['isForced']==True:\n",
    "        return_val='Forced'\n",
    "    elif row['isUnforced']==True:\n",
    "        return_val='Unforced'\n",
    "    elif row['isDouble']==True:\n",
    "        return_val='Double'  \n",
    "    else:\n",
    "        return_val='Other'\n",
    " \n",
    "    return return_val"
   ]
  },
  {
   "cell_type": "code",
   "execution_count": 18,
   "metadata": {},
   "outputs": [],
   "source": [
    "#Have to handle some cases where the data isn't an integer.\n",
    "def rallyCounttoint(row):\n",
    "    if str(row['rallyCount']).isdecimal():\n",
    "        return_val=int(row['rallyCount'])\n",
    "    else:\n",
    "        return_val=None\n",
    "    \n",
    "    return return_val"
   ]
  },
  {
   "cell_type": "code",
   "execution_count": 19,
   "metadata": {},
   "outputs": [],
   "source": [
    "#Can't rely on the points to determine this.\n",
    "def abouttowin(row):\n",
    "    if row['IsCrucialPoint']:       \n",
    "        if row['PtsAfter']=='GM':\n",
    "            if row['PtWinner']==1:\n",
    "                return_val=1\n",
    "            else:\n",
    "                return_val=2\n",
    "        else:\n",
    "            if row['PtWinner']==1:\n",
    "                return_val=2\n",
    "            else:\n",
    "                return_val=1     \n",
    "    else:\n",
    "        return_val=None\n",
    "            \n",
    "    return return_val\n",
    "        \n"
   ]
  },
  {
   "cell_type": "code",
   "execution_count": 20,
   "metadata": {},
   "outputs": [],
   "source": [
    "#winsave\n",
    "def PWinnerwinorsave(row):\n",
    "    if row['IsCrucialPoint']:    \n",
    "        abouttowin=row['abouttowin']\n",
    "        ptWinner=row['PtWinner']\n",
    "        if ptWinner==1:\n",
    "            if abouttowin==1:\n",
    "                return_val='Win'\n",
    "            else:\n",
    "                return_val='Save'\n",
    "        else: \n",
    "            if abouttowin==2:\n",
    "                return_val='Win'\n",
    "            else:\n",
    "                return_val='Save'\n",
    "    else:\n",
    "        return_val='N/A'\n",
    "\n",
    "    \n",
    "    return return_val\n",
    "        "
   ]
  },
  {
   "cell_type": "code",
   "execution_count": 21,
   "metadata": {},
   "outputs": [],
   "source": [
    "#winsave\n",
    "def PLoserwinorsave(row):\n",
    "    if row['IsCrucialPoint']:    \n",
    "        abouttowin=row['abouttowin']\n",
    "        ptWinner=row['PtWinner']\n",
    "        if ptWinner==1:\n",
    "            if abouttowin==2:\n",
    "                return_val='Win'\n",
    "            else:\n",
    "                return_val='Save'\n",
    "        else: \n",
    "            if abouttowin==1:\n",
    "                return_val='Win'\n",
    "            else:\n",
    "                return_val='Save'\n",
    "    else:\n",
    "        return_val='N/A'\n",
    "\n",
    "    \n",
    "    return return_val\n",
    "        "
   ]
  },
  {
   "cell_type": "code",
   "execution_count": 22,
   "metadata": {},
   "outputs": [],
   "source": [
    "def BreakPoint(row):\n",
    "    if row['IsCrucialPoint']:    \n",
    "        if (row['abouttowin']==1 and row['Svr']==2) or (row['abouttowin']==2 and row['Svr']==1):\n",
    "            return_val='Break'\n",
    "        else:\n",
    "            return_val='OnServe'\n",
    "    else:\n",
    "        return_val='N/A'\n",
    "    \n",
    "    return return_val"
   ]
  },
  {
   "cell_type": "code",
   "execution_count": 23,
   "metadata": {},
   "outputs": [],
   "source": [
    "#Point Type\n",
    "def PointType(row):\n",
    "    #when p1 about to win set\n",
    "    logicforset1=row['abouttowin']==1 and  (row['Gm1']>=5  and row['Gm1']>row['Gm2'] or row['Gm1']==6 and row['Gm2']==6)\n",
    "    #when p2 about to win set\n",
    "    logicforset2=row['abouttowin']==2 and  (row['Gm2']>=5  and row['Gm2']>row['Gm1'] or row['Gm1']==6 and row['Gm2']==6)\n",
    "    if row['IsCrucialPoint']:    \n",
    "        if logicforset1:\n",
    "            if row['bigmatchflag']==True and row['Set1']==2:\n",
    "                return_val='MatchPoint'\n",
    "            elif row['bigmatchflag']==False and row['Set1']==1 :\n",
    "                return_val='MatchPoint'\n",
    "            else:\n",
    "                return_val='SetPoint'\n",
    "        elif logicforset2:\n",
    "            if row['bigmatchflag']==True and row['Set2']==2:\n",
    "                return_val='MatchPoint'\n",
    "            elif row['bigmatchflag']==False and row['Set2']==1 :\n",
    "                return_val='MatchPoint'\n",
    "            else:\n",
    "                return_val='SetPoint'    \n",
    "        else:\n",
    "            return_val='GamePoint'      \n",
    "    else:\n",
    "        return_val='N/A'\n",
    "    \n",
    "\n",
    "    \n",
    "    return return_val\n",
    "        "
   ]
  },
  {
   "cell_type": "code",
   "execution_count": 24,
   "metadata": {},
   "outputs": [],
   "source": [
    "df['IsCrucialPoint']=df.apply(isCrucialPoint,axis=1)\n",
    "df['PlayerWon']=df.apply(ClutchPlayerWon,axis=1)\n",
    "df['PlayerLost']=df.apply(ClutchPlayerLost,axis=1)\n",
    "df['HowPoint']=df.apply(HowPoint,axis=1)\n",
    "df['rallyCount']=df.apply(rallyCounttoint,axis=1)"
   ]
  },
  {
   "cell_type": "code",
   "execution_count": 25,
   "metadata": {},
   "outputs": [],
   "source": [
    "df['abouttowin']=df.apply(abouttowin,axis=1)\n",
    "df['BreakPoint']=df.apply(BreakPoint,axis=1)\n",
    "df['PointType']=df.apply(PointType,axis=1)\n",
    "df['PWinnerwinorsave']=df.apply(PWinnerwinorsave,axis=1)\n",
    "df['PLoserwinorsave']=df.apply(PLoserwinorsave,axis=1)\n",
    "df['WinnerIsServerOrReturner']=df.apply(WinnerIsServerOrReturner,axis=1)\n",
    "df['LoserIsServerOrReturner']=df.apply(LoserIsServerOrReturner,axis=1)\n",
    "df['Year']=df['Date'].str.slice(stop=4)"
   ]
  },
  {
   "cell_type": "code",
   "execution_count": 26,
   "metadata": {},
   "outputs": [],
   "source": [
    "#Points Won\n",
    "dfallWon = pd.DataFrame()\n",
    "dfallWon['count']=df.groupby(['WinnerIsServerOrReturner','BreakPoint','Year','PlayerWon','HowPoint','IsCrucialPoint','PWinnerwinorsave','PointType'])['PlayerWon'].count().sort_values(ascending=False)\n",
    "dfallWon['avg_rally_count']=df.groupby(['WinnerIsServerOrReturner','BreakPoint','Year','PlayerWon','HowPoint','IsCrucialPoint','PWinnerwinorsave','PointType'])['rallyCount'].mean().sort_values(ascending=False)\n",
    "dfallWon['WonLost']='Won'\n",
    "dfallWon=dfallWon.reset_index()\n",
    "dfallWon=dfallWon.rename(columns={\"PlayerWon\": \"Player\",\"PWinnerwinorsave\": \"winorsave\",'WinnerIsServerOrReturner':'ServerOrReturner'})\n",
    "\n",
    "#Points Lost\n",
    "dfallLost = pd.DataFrame()\n",
    "dfallLost['count']=df.groupby(['LoserIsServerOrReturner','BreakPoint','Year','PlayerLost','HowPoint','IsCrucialPoint','PLoserwinorsave','PointType'])['PlayerLost'].count().sort_values(ascending=False)\n",
    "dfallLost['avg_rally_count']=df.groupby(['LoserIsServerOrReturner','BreakPoint','Year','PlayerLost','HowPoint','IsCrucialPoint','PLoserwinorsave','PointType'])['rallyCount'].mean().sort_values(ascending=False)\n",
    "dfallLost['WonLost']='Lost'\n",
    "dfallLost=dfallLost.reset_index()\n",
    "dfallLost=dfallLost.rename(columns={\"PlayerLost\": \"Player\",\"PLoserwinorsave\": \"winorsave\",'LoserIsServerOrReturner':'ServerOrReturner'})\n",
    "\n",
    "dfallagg=pd.concat([dfallWon,dfallLost])\n"
   ]
  },
  {
   "cell_type": "code",
   "execution_count": 27,
   "metadata": {},
   "outputs": [],
   "source": [
    "df[df['PlayerWon']=='Roger_Federer'].to_csv('test.csv')"
   ]
  },
  {
   "cell_type": "code",
   "execution_count": 62,
   "metadata": {},
   "outputs": [],
   "source": [
    "dfallagg.to_csv('final_dataset_agg.csv')"
   ]
  },
  {
   "cell_type": "markdown",
   "metadata": {},
   "source": [
    "# Done!"
   ]
  }
 ],
 "metadata": {
  "kernelspec": {
   "display_name": "Python 3",
   "language": "python",
   "name": "python3"
  },
  "language_info": {
   "codemirror_mode": {
    "name": "ipython",
    "version": 3
   },
   "file_extension": ".py",
   "mimetype": "text/x-python",
   "name": "python",
   "nbconvert_exporter": "python",
   "pygments_lexer": "ipython3",
   "version": "3.6.3"
  }
 },
 "nbformat": 4,
 "nbformat_minor": 4
}
